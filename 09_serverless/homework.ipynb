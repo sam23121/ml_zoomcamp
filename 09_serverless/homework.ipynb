{
 "cells": [
  {
   "cell_type": "code",
   "execution_count": 2,
   "metadata": {},
   "outputs": [
    {
     "data": {
      "text/plain": [
       "'2.17.1'"
      ]
     },
     "execution_count": 2,
     "metadata": {},
     "output_type": "execute_result"
    }
   ],
   "source": [
    "import numpy as np\n",
    "\n",
    "import tensorflow as tf\n",
    "from tensorflow import keras\n",
    "\n",
    "tf.__version__"
   ]
  },
  {
   "cell_type": "code",
   "execution_count": 3,
   "metadata": {},
   "outputs": [
    {
     "name": "stderr",
     "output_type": "stream",
     "text": [
      "WARNING: All log messages before absl::InitializeLog() is called are written to STDERR\n",
      "I0000 00:00:1733912823.795074   37282 cuda_executor.cc:1015] successful NUMA node read from SysFS had negative value (-1), but there must be at least one NUMA node, so returning NUMA node zero. See more at https://github.com/torvalds/linux/blob/v6.0/Documentation/ABI/testing/sysfs-bus-pci#L344-L355\n",
      "2024-12-11 13:27:03.989637: W tensorflow/core/common_runtime/gpu/gpu_device.cc:2343] Cannot dlopen some GPU libraries. Please make sure the missing libraries mentioned above are installed properly if you would like to use GPU. Follow the guide at https://www.tensorflow.org/install/gpu for how to download and setup the required libraries for your platform.\n",
      "Skipping registering GPU devices...\n",
      "2024-12-11 13:27:04.041895: W external/local_tsl/tsl/framework/cpu_allocator_impl.cc:83] Allocation of 80289792 exceeds 10% of free system memory.\n",
      "2024-12-11 13:27:04.066055: W external/local_tsl/tsl/framework/cpu_allocator_impl.cc:83] Allocation of 80289792 exceeds 10% of free system memory.\n",
      "2024-12-11 13:27:04.094507: W external/local_tsl/tsl/framework/cpu_allocator_impl.cc:83] Allocation of 80289792 exceeds 10% of free system memory.\n",
      "2024-12-11 13:27:04.165676: W external/local_tsl/tsl/framework/cpu_allocator_impl.cc:83] Allocation of 80289792 exceeds 10% of free system memory.\n",
      "2024-12-11 13:27:04.550172: W external/local_tsl/tsl/framework/cpu_allocator_impl.cc:83] Allocation of 80289792 exceeds 10% of free system memory.\n"
     ]
    }
   ],
   "source": [
    "model = keras.models.load_model('model_2024_hairstyle.keras')\n"
   ]
  },
  {
   "cell_type": "code",
   "execution_count": 4,
   "metadata": {},
   "outputs": [
    {
     "name": "stdout",
     "output_type": "stream",
     "text": [
      "INFO:tensorflow:Assets written to: /tmp/tmpzvfl9pke/assets\n"
     ]
    },
    {
     "name": "stderr",
     "output_type": "stream",
     "text": [
      "INFO:tensorflow:Assets written to: /tmp/tmpzvfl9pke/assets\n"
     ]
    },
    {
     "name": "stdout",
     "output_type": "stream",
     "text": [
      "Saved artifact at '/tmp/tmpzvfl9pke'. The following endpoints are available:\n",
      "\n",
      "* Endpoint 'serve'\n",
      "  args_0 (POSITIONAL_ONLY): TensorSpec(shape=(None, 200, 200, 3), dtype=tf.float32, name='input_layer')\n",
      "Output Type:\n",
      "  TensorSpec(shape=(None, 1), dtype=tf.float32, name=None)\n",
      "Captures:\n",
      "  140507312490976: TensorSpec(shape=(), dtype=tf.resource, name=None)\n",
      "  140507312495904: TensorSpec(shape=(), dtype=tf.resource, name=None)\n",
      "  140507312806320: TensorSpec(shape=(), dtype=tf.resource, name=None)\n",
      "  140507312808608: TensorSpec(shape=(), dtype=tf.resource, name=None)\n",
      "  140507312813360: TensorSpec(shape=(), dtype=tf.resource, name=None)\n",
      "  140507312814064: TensorSpec(shape=(), dtype=tf.resource, name=None)\n"
     ]
    },
    {
     "name": "stderr",
     "output_type": "stream",
     "text": [
      "WARNING: All log messages before absl::InitializeLog() is called are written to STDERR\n",
      "W0000 00:00:1733912829.048422   37282 tf_tfl_flatbuffer_helpers.cc:392] Ignored output_format.\n",
      "W0000 00:00:1733912829.048470   37282 tf_tfl_flatbuffer_helpers.cc:395] Ignored drop_control_dependency.\n",
      "2024-12-11 13:27:09.049415: I tensorflow/cc/saved_model/reader.cc:83] Reading SavedModel from: /tmp/tmpzvfl9pke\n",
      "2024-12-11 13:27:09.049871: I tensorflow/cc/saved_model/reader.cc:52] Reading meta graph with tags { serve }\n",
      "2024-12-11 13:27:09.049891: I tensorflow/cc/saved_model/reader.cc:147] Reading SavedModel debug info (if present) from: /tmp/tmpzvfl9pke\n",
      "2024-12-11 13:27:09.053983: I tensorflow/compiler/mlir/mlir_graph_optimization_pass.cc:388] MLIR V1 optimization pass is not enabled\n",
      "2024-12-11 13:27:09.055086: I tensorflow/cc/saved_model/loader.cc:236] Restoring SavedModel bundle.\n",
      "2024-12-11 13:27:09.262957: I tensorflow/cc/saved_model/loader.cc:220] Running initialization op on SavedModel bundle at path: /tmp/tmpzvfl9pke\n",
      "2024-12-11 13:27:09.269718: I tensorflow/cc/saved_model/loader.cc:462] SavedModel load for tags { serve }; Status: success: OK. Took 220307 microseconds.\n",
      "2024-12-11 13:27:09.336851: I tensorflow/compiler/mlir/tensorflow/utils/dump_mlir_util.cc:268] disabling MLIR crash reproducer, set env var `MLIR_CRASH_REPRODUCER_DIRECTORY` to enable.\n"
     ]
    }
   ],
   "source": [
    "converter = tf.lite.TFLiteConverter.from_keras_model(model)\n",
    "\n",
    "tflite_model = converter.convert()\n",
    "\n",
    "with open('model_2024_hairstyle.tflite', 'wb') as f_out:\n",
    "    f_out.write(tflite_model)"
   ]
  },
  {
   "cell_type": "code",
   "execution_count": 5,
   "metadata": {},
   "outputs": [],
   "source": [
    "import tensorflow.lite as tflite\n"
   ]
  },
  {
   "cell_type": "code",
   "execution_count": 7,
   "metadata": {},
   "outputs": [
    {
     "name": "stderr",
     "output_type": "stream",
     "text": [
      "INFO: Created TensorFlow Lite XNNPACK delegate for CPU.\n"
     ]
    }
   ],
   "source": [
    "interpreter = tflite.Interpreter(model_path='model_2024_hairstyle.tflite')\n",
    "interpreter.allocate_tensors()\n",
    "\n",
    "input_index = interpreter.get_input_details()[0]['index']\n",
    "output_index = interpreter.get_output_details()[0]['index']"
   ]
  },
  {
   "cell_type": "code",
   "execution_count": 8,
   "metadata": {},
   "outputs": [
    {
     "name": "stdout",
     "output_type": "stream",
     "text": [
      "0 13\n"
     ]
    }
   ],
   "source": [
    "print(input_index, output_index)"
   ]
  },
  {
   "cell_type": "code",
   "execution_count": 10,
   "metadata": {},
   "outputs": [],
   "source": [
    "from io import BytesIO\n",
    "from urllib import request\n",
    "\n",
    "from PIL import Image\n",
    "\n",
    "def download_image(url):\n",
    "    with request.urlopen(url) as resp:\n",
    "        buffer = resp.read()\n",
    "    stream = BytesIO(buffer)\n",
    "    img = Image.open(stream)\n",
    "    return img\n",
    "\n",
    "\n",
    "def prepare_image(img, target_size):\n",
    "    if img.mode != 'RGB':\n",
    "        img = img.convert('RGB')\n",
    "    img = img.resize(target_size, Image.NEAREST)\n",
    "    return img"
   ]
  },
  {
   "cell_type": "code",
   "execution_count": 13,
   "metadata": {},
   "outputs": [],
   "source": [
    "img = download_image('https://habrastorage.org/webt/yf/_d/ok/yf_dokzqy3vcritme8ggnzqlvwa.jpeg')\n",
    "img = prepare_image(img, (200, 200))\n",
    "\n",
    "x = np.array(img)\n",
    "X = np.array([x])\n",
    "\n",
    "X = X.astype(np.float32)\n",
    "X = X / 255.0"
   ]
  },
  {
   "cell_type": "code",
   "execution_count": 16,
   "metadata": {},
   "outputs": [
    {
     "data": {
      "text/plain": [
       "array([[[[0.23921569, 0.40784314, 0.08627451],\n",
       "         [0.25490198, 0.43137255, 0.11372549],\n",
       "         [0.24705882, 0.43137255, 0.1254902 ],\n",
       "         ...,\n",
       "         [0.23921569, 0.34117648, 0.        ],\n",
       "         [0.23921569, 0.34901962, 0.01960784],\n",
       "         [0.20784314, 0.3137255 , 0.00392157]],\n",
       "\n",
       "        [[0.24313726, 0.4117647 , 0.10196079],\n",
       "         [0.2509804 , 0.41960785, 0.10980392],\n",
       "         [0.25490198, 0.41960785, 0.12156863],\n",
       "         ...,\n",
       "         [0.2509804 , 0.34117648, 0.        ],\n",
       "         [0.24313726, 0.33333334, 0.01176471],\n",
       "         [0.21568628, 0.32156864, 0.01960784]],\n",
       "\n",
       "        [[0.26666668, 0.4392157 , 0.13725491],\n",
       "         [0.2627451 , 0.42745098, 0.12941177],\n",
       "         [0.27450982, 0.42352942, 0.12941177],\n",
       "         ...,\n",
       "         [0.2509804 , 0.34901962, 0.03137255],\n",
       "         [0.23137255, 0.32156864, 0.01568628],\n",
       "         [0.20392157, 0.29803923, 0.        ]],\n",
       "\n",
       "        ...,\n",
       "\n",
       "        [[0.10196079, 0.2       , 0.04313726],\n",
       "         [0.10196079, 0.2       , 0.04313726],\n",
       "         [0.13725491, 0.23921569, 0.05490196],\n",
       "         ...,\n",
       "         [0.88235295, 0.91764706, 0.9137255 ],\n",
       "         [0.8627451 , 0.8980392 , 0.89411765],\n",
       "         [0.89411765, 0.92941177, 0.9254902 ]],\n",
       "\n",
       "        [[0.10196079, 0.1882353 , 0.03921569],\n",
       "         [0.10588235, 0.20392157, 0.03921569],\n",
       "         [0.10980392, 0.21176471, 0.02745098],\n",
       "         ...,\n",
       "         [0.87058824, 0.90588236, 0.9019608 ],\n",
       "         [0.8509804 , 0.8980392 , 0.8901961 ],\n",
       "         [0.8745098 , 0.92156863, 0.9137255 ]],\n",
       "\n",
       "        [[0.10980392, 0.1882353 , 0.04313726],\n",
       "         [0.09019608, 0.1882353 , 0.03137255],\n",
       "         [0.10196079, 0.2       , 0.04313726],\n",
       "         ...,\n",
       "         [0.8784314 , 0.9137255 , 0.9098039 ],\n",
       "         [0.88235295, 0.92156863, 0.91764706],\n",
       "         [0.87058824, 0.91764706, 0.9098039 ]]]], dtype=float32)"
      ]
     },
     "execution_count": 16,
     "metadata": {},
     "output_type": "execute_result"
    }
   ],
   "source": [
    "X"
   ]
  },
  {
   "cell_type": "code",
   "execution_count": 14,
   "metadata": {},
   "outputs": [],
   "source": [
    "interpreter.set_tensor(input_index, X)\n",
    "interpreter.invoke()\n",
    "preds = interpreter.get_tensor(output_index)"
   ]
  },
  {
   "cell_type": "code",
   "execution_count": 15,
   "metadata": {},
   "outputs": [
    {
     "data": {
      "text/plain": [
       "array([[0.8937741]], dtype=float32)"
      ]
     },
     "execution_count": 15,
     "metadata": {},
     "output_type": "execute_result"
    }
   ],
   "source": [
    "preds\n"
   ]
  },
  {
   "cell_type": "code",
   "execution_count": null,
   "metadata": {},
   "outputs": [],
   "source": []
  }
 ],
 "metadata": {
  "kernelspec": {
   "display_name": "ml_zoom",
   "language": "python",
   "name": "python3"
  },
  "language_info": {
   "codemirror_mode": {
    "name": "ipython",
    "version": 3
   },
   "file_extension": ".py",
   "mimetype": "text/x-python",
   "name": "python",
   "nbconvert_exporter": "python",
   "pygments_lexer": "ipython3",
   "version": "3.10.14"
  }
 },
 "nbformat": 4,
 "nbformat_minor": 2
}
